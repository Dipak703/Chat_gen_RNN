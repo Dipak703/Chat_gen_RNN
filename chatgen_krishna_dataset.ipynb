{
  "cells": [
    {
      "cell_type": "markdown",
      "metadata": {
        "id": "view-in-github",
        "colab_type": "text"
      },
      "source": [
        "<a href=\"https://colab.research.google.com/github/Dipak703/Chat_gen_RNN/blob/main/chatgen_krishna_dataset.ipynb\" target=\"_parent\"><img src=\"https://colab.research.google.com/assets/colab-badge.svg\" alt=\"Open In Colab\"/></a>"
      ]
    },
    {
      "cell_type": "code",
      "execution_count": null,
      "id": "a5832def-e4bc-4edd-80fb-3c2b14f88457",
      "metadata": {
        "id": "a5832def-e4bc-4edd-80fb-3c2b14f88457"
      },
      "outputs": [],
      "source": [
        "import tensorflow as tf\n",
        "from tensorflow import keras\n",
        "from tensorflow.keras.preprocessing.text import Tokenizer\n",
        "from tensorflow.keras.preprocessing.sequence import pad_sequences\n",
        "import numpy as np\n",
        "from keras.layers import LSTM, Bidirectional\n",
        "from keras.optimizers import Adam\n",
        "import json"
      ]
    },
    {
      "cell_type": "code",
      "execution_count": null,
      "id": "e3118087-bd33-473a-9da4-180a22d6c4b3",
      "metadata": {
        "id": "e3118087-bd33-473a-9da4-180a22d6c4b3"
      },
      "outputs": [],
      "source": [
        "token = Tokenizer(oov_token=\"$_$\")"
      ]
    },
    {
      "cell_type": "code",
      "execution_count": null,
      "id": "5d9ddea2-f577-4f67-8977-5c68d0e54bc3",
      "metadata": {
        "id": "5d9ddea2-f577-4f67-8977-5c68d0e54bc3",
        "colab": {
          "base_uri": "https://localhost:8080/"
        },
        "outputId": "ed9c0ae5-d1dc-41db-95ac-9bdfacd2b8ff",
        "collapsed": true
      },
      "outputs": [
        {
          "output_type": "stream",
          "name": "stdout",
          "text": [
            "[['lord krishna is the symbol of love and intelligence. lord krishna gave specific knowledge that still helps the world through their entire life written in bhagavad gita. those krishna quotes that krishna gave to arjuna should be must be known by everyone to get a pleasant experience.'], [''], ['he was the eighth incarnations (avatar) of lord vishnu. there are 700 verses in bhagavad gita written in sanskrit and translated in hindi and english.'], [''], ['today, the whole world is recognizing the presence of the holy book and the lesson that krishna gave during mahabharata. from the birth to death, it tells you how to live and how to spend your life, why you have been born and why death is a necessary factor.'], ['\"no one who does good work will ever come to a bad end, either here or in the world to come.” ― lord krishna'], ['“reshape yourself through the power of your will; never let yourself be degraded by self-will. the will is the only friend of the self, and the will is the only enemy of the self.” ― lord krishna'], ['“set thy heart upon thy work, but never on its reward.” ― lord krishna'], ['“among all kinds of killers, time is the ultimate because time kills everything.” ― lord krishna'], ['“actions do not cling to me because i am not attached to their results. those who understand this and practice it live in freedom.” ― lord krishna'], ['“the only way you can conquer me is through love and there i am gladly conquered.” ― lord krishna'], ['“he who has no attachments can really love others, for his love is pure and divine.” ― lord krishna'], ['“whatever happened was good. what’s happening is going well. whatever will happen will also be good. do not worry about the future. live in the present.” ― lord krishna'], [''], ['krishna, a revered figure in hinduism, is often regarded as the embodiment of divinity, wisdom, and love. his teachings, encapsulated in the sacred texts of the bhagavad gita, resonate with people across the world, transcending the boundaries of religion and culture. krishna’s profound words of guidance and enlightenment continue to inspire and provide solace to those seeking spiritual insight and a deeper understanding of life’s complexities.'], [''], ['one of the most remarkable aspects of krishna’s teachings lies in their timeless relevance. whether addressing the moral dilemmas faced by arjuna on the battlefield of kurukshetra or imparting profound wisdom about the nature of existence, krishna’s words possess a universal quality that speaks to the human condition in all its dimensions. his insights encompass a wide range of topics, from duty and righteousness to the nature of the soul, the path to self-realization, and the essence of devotion.'], [''], ['krishna’s quotes are not merely words on a page; they are pearls of wisdom that invite contemplation and self-reflection. they encourage individuals to delve deeper into their own lives, beliefs, and actions, urging them to align their thoughts and deeds with higher principles. in times of joy and sorrow, success and failure, krishna’s teachings offer solace and guidance, reminding us of the impermanence of material existence and the enduring truth of the spiritual realm.'], [''], ['mother earth, unable to bear the burden of sins committed by evil kings and rulers, appealed to brahma the creator for help. brahma, in turn, prayed to the supreme lord vishnu, who assured brahma that vishnu would soon return earth to annihilate tyrannical forces.'], [''], [\"kamsa, the ruler of mathura (in northern india) was one such tyrant, inspiring fear among all the rulers. on the day kamsa's sister devaki was married to vasudeva, a voice from the sky prophesied that devaki's eighth son would destroy kamsa.\"], [''], ['frightened, kamsa jailed the couple and vowed to kill any child devaki gave birth to. he made good on his word, killing the first seven infants devaki bore vasudeva, and the imprisoned couple feared their eighth child would meet the same fate. '], [''], [\"lord vishnu appeared before them, telling them he would return to earth in the guise of their son and rescue them from kamsa's tyranny. when the divine baby was born, vasudeva found himself magically freed from prison, and he fled with the infant to a safe house. along the way, vishnu removed obstacles like snakes and floods from vasudeva's path.\"], [''], ['vasudeva gave the infant krishna to a family of cowherds, exchanging him for a newborn girl. vasudeva returned to the prison with the girl. when kamsa learned of the birth, he rushed to the prison to kill the child. but when he arrived, the infant ascended to the heavens and was transformed into the goddess yogamaya. she warned kamsa that his nemesis had already been born elsewhere.'], [''], [\"meanwhile, krishna was raised as a cowherd, leading an idyllic childhood. as he matured, he became a skillful musician, wooing the women of his village with his flute-playing. eventually, he returned to mathura, where he slew kamsa and his henchmen, restored his father to power, and became friendly with many of hinduism's heroes, including the warrior arjuna.\"], [''], ['']]\n",
            "['lord krishna is the symbol of love and intelligence. lord krishna gave specific knowledge that still helps the world through their entire life written in bhagavad gita. those krishna quotes that krishna gave to arjuna should be must be known by everyone to get a pleasant experience.', 'he was the eighth incarnations (avatar) of lord vishnu. there are 700 verses in bhagavad gita written in sanskrit and translated in hindi and english.', 'today, the whole world is recognizing the presence of the holy book and the lesson that krishna gave during mahabharata. from the birth to death, it tells you how to live and how to spend your life, why you have been born and why death is a necessary factor.', '\"no one who does good work will ever come to a bad end, either here or in the world to come.” ― lord krishna', '“reshape yourself through the power of your will; never let yourself be degraded by self-will. the will is the only friend of the self, and the will is the only enemy of the self.” ― lord krishna', '“set thy heart upon thy work, but never on its reward.” ― lord krishna', '“among all kinds of killers, time is the ultimate because time kills everything.” ― lord krishna', '“actions do not cling to me because i am not attached to their results. those who understand this and practice it live in freedom.” ― lord krishna', '“the only way you can conquer me is through love and there i am gladly conquered.” ― lord krishna', '“he who has no attachments can really love others, for his love is pure and divine.” ― lord krishna', '“whatever happened was good. what’s happening is going well. whatever will happen will also be good. do not worry about the future. live in the present.” ― lord krishna', 'krishna, a revered figure in hinduism, is often regarded as the embodiment of divinity, wisdom, and love. his teachings, encapsulated in the sacred texts of the bhagavad gita, resonate with people across the world, transcending the boundaries of religion and culture. krishna’s profound words of guidance and enlightenment continue to inspire and provide solace to those seeking spiritual insight and a deeper understanding of life’s complexities.', 'one of the most remarkable aspects of krishna’s teachings lies in their timeless relevance. whether addressing the moral dilemmas faced by arjuna on the battlefield of kurukshetra or imparting profound wisdom about the nature of existence, krishna’s words possess a universal quality that speaks to the human condition in all its dimensions. his insights encompass a wide range of topics, from duty and righteousness to the nature of the soul, the path to self-realization, and the essence of devotion.', 'krishna’s quotes are not merely words on a page; they are pearls of wisdom that invite contemplation and self-reflection. they encourage individuals to delve deeper into their own lives, beliefs, and actions, urging them to align their thoughts and deeds with higher principles. in times of joy and sorrow, success and failure, krishna’s teachings offer solace and guidance, reminding us of the impermanence of material existence and the enduring truth of the spiritual realm.', 'mother earth, unable to bear the burden of sins committed by evil kings and rulers, appealed to brahma the creator for help. brahma, in turn, prayed to the supreme lord vishnu, who assured brahma that vishnu would soon return earth to annihilate tyrannical forces.', \"kamsa, the ruler of mathura (in northern india) was one such tyrant, inspiring fear among all the rulers. on the day kamsa's sister devaki was married to vasudeva, a voice from the sky prophesied that devaki's eighth son would destroy kamsa.\", 'frightened, kamsa jailed the couple and vowed to kill any child devaki gave birth to. he made good on his word, killing the first seven infants devaki bore vasudeva, and the imprisoned couple feared their eighth child would meet the same fate. ', \"lord vishnu appeared before them, telling them he would return to earth in the guise of their son and rescue them from kamsa's tyranny. when the divine baby was born, vasudeva found himself magically freed from prison, and he fled with the infant to a safe house. along the way, vishnu removed obstacles like snakes and floods from vasudeva's path.\", 'vasudeva gave the infant krishna to a family of cowherds, exchanging him for a newborn girl. vasudeva returned to the prison with the girl. when kamsa learned of the birth, he rushed to the prison to kill the child. but when he arrived, the infant ascended to the heavens and was transformed into the goddess yogamaya. she warned kamsa that his nemesis had already been born elsewhere.', \"meanwhile, krishna was raised as a cowherd, leading an idyllic childhood. as he matured, he became a skillful musician, wooing the women of his village with his flute-playing. eventually, he returned to mathura, where he slew kamsa and his henchmen, restored his father to power, and became friendly with many of hinduism's heroes, including the warrior arjuna.\"]\n"
          ]
        }
      ],
      "source": [
        "with open(\"Lord_Krishna.txt\",'r') as da:\n",
        "    data = da.read()\n",
        "    text = data.lower().split( \"\\n\")\n",
        "texts =[]\n",
        "ptext =[]\n",
        "for items in text:\n",
        "    ptext.append(items.split(\"\\t\"))\n",
        "for item in ptext:\n",
        "    texts.append(item[0])\n",
        "print(len(text))\n",
        "print(texts)\n",
        "print(data)\n",
        "for items in texts:\n",
        "    if items == \"\":\n",
        "        texts.remove(items)\n",
        "    if len(items)<4:\n",
        "        texts.remove(items)\n",
        "\n"
      ]
    },
    {
      "cell_type": "code",
      "execution_count": null,
      "id": "b10e8a60-3b40-4d77-845a-00b49831a62b",
      "metadata": {
        "scrolled": true,
        "colab": {
          "base_uri": "https://localhost:8080/"
        },
        "id": "b10e8a60-3b40-4d77-845a-00b49831a62b",
        "outputId": "09fc49b4-03de-4dba-94c7-e9ffdd671614"
      },
      "outputs": [
        {
          "output_type": "stream",
          "name": "stdout",
          "text": [
            "{'$_$': 1, 'the': 2, 'and': 3, 'to': 4, 'of': 5, 'krishna': 6, 'in': 7, 'a': 8, 'lord': 9, 'is': 10, 'he': 11, 'his': 12, 'that': 13, '”': 14, '―': 15, 'their': 16, 'was': 17, 'will': 18, 'from': 19, 'with': 20, 'kamsa': 21, 'love': 22, 'gave': 23, 'vishnu': 24, 'self': 25, 'on': 26, 'krishna’s': 27, 'vasudeva': 28, 'world': 29, 'be': 30, 'by': 31, 'who': 32, 'good': 33, 'not': 34, 'them': 35, 'would': 36, 'through': 37, 'bhagavad': 38, 'gita': 39, 'those': 40, 'arjuna': 41, 'eighth': 42, 'are': 43, 'birth': 44, 'you': 45, 'live': 46, 'born': 47, 'one': 48, 'only': 49, 'all': 50, 'for': 51, 'as': 52, 'wisdom': 53, 'teachings': 54, 'words': 55, 'earth': 56, 'brahma': 57, 'devaki': 58, 'child': 59, 'when': 60, 'prison': 61, 'infant': 62, 'life': 63, 'written': 64, 'quotes': 65, 'there': 66, 'death': 67, 'it': 68, 'how': 69, 'your': 70, 'why': 71, 'been': 72, 'no': 73, 'work': 74, 'come': 75, 'or': 76, 'yourself': 77, 'power': 78, 'never': 79, 'thy': 80, 'but': 81, 'its': 82, 'time': 83, 'because': 84, 'do': 85, 'me': 86, 'i': 87, 'am': 88, 'way': 89, 'can': 90, 'divine': 91, 'about': 92, 'profound': 93, 'guidance': 94, 'solace': 95, 'spiritual': 96, 'deeper': 97, 'nature': 98, 'existence': 99, 'path': 100, 'they': 101, 'into': 102, 'rulers': 103, 'return': 104, 'mathura': 105, \"kamsa's\": 106, 'son': 107, 'couple': 108, 'kill': 109, 'girl': 110, 'returned': 111, 'became': 112, 'symbol': 113, 'intelligence': 114, 'specific': 115, 'knowledge': 116, 'still': 117, 'helps': 118, 'entire': 119, 'should': 120, 'must': 121, 'known': 122, 'everyone': 123, 'get': 124, 'pleasant': 125, 'experience': 126, 'incarnations': 127, 'avatar': 128, '700': 129, 'verses': 130, 'sanskrit': 131, 'translated': 132, 'hindi': 133, 'english': 134, 'today': 135, 'whole': 136, 'recognizing': 137, 'presence': 138, 'holy': 139, 'book': 140, 'lesson': 141, 'during': 142, 'mahabharata': 143, 'tells': 144, 'spend': 145, 'have': 146, 'necessary': 147, 'factor': 148, 'does': 149, 'ever': 150, 'bad': 151, 'end': 152, 'either': 153, 'here': 154, '“reshape': 155, 'let': 156, 'degraded': 157, 'friend': 158, 'enemy': 159, '“set': 160, 'heart': 161, 'upon': 162, 'reward': 163, '“among': 164, 'kinds': 165, 'killers': 166, 'ultimate': 167, 'kills': 168, 'everything': 169, '“actions': 170, 'cling': 171, 'attached': 172, 'results': 173, 'understand': 174, 'this': 175, 'practice': 176, 'freedom': 177, '“the': 178, 'conquer': 179, 'gladly': 180, 'conquered': 181, '“he': 182, 'has': 183, 'attachments': 184, 'really': 185, 'others': 186, 'pure': 187, '“whatever': 188, 'happened': 189, 'what’s': 190, 'happening': 191, 'going': 192, 'well': 193, 'whatever': 194, 'happen': 195, 'also': 196, 'worry': 197, 'future': 198, 'present': 199, 'revered': 200, 'figure': 201, 'hinduism': 202, 'often': 203, 'regarded': 204, 'embodiment': 205, 'divinity': 206, 'encapsulated': 207, 'sacred': 208, 'texts': 209, 'resonate': 210, 'people': 211, 'across': 212, 'transcending': 213, 'boundaries': 214, 'religion': 215, 'culture': 216, 'enlightenment': 217, 'continue': 218, 'inspire': 219, 'provide': 220, 'seeking': 221, 'insight': 222, 'understanding': 223, 'life’s': 224, 'complexities': 225, 'most': 226, 'remarkable': 227, 'aspects': 228, 'lies': 229, 'timeless': 230, 'relevance': 231, 'whether': 232, 'addressing': 233, 'moral': 234, 'dilemmas': 235, 'faced': 236, 'battlefield': 237, 'kurukshetra': 238, 'imparting': 239, 'possess': 240, 'universal': 241, 'quality': 242, 'speaks': 243, 'human': 244, 'condition': 245, 'dimensions': 246, 'insights': 247, 'encompass': 248, 'wide': 249, 'range': 250, 'topics': 251, 'duty': 252, 'righteousness': 253, 'soul': 254, 'realization': 255, 'essence': 256, 'devotion': 257, 'merely': 258, 'page': 259, 'pearls': 260, 'invite': 261, 'contemplation': 262, 'reflection': 263, 'encourage': 264, 'individuals': 265, 'delve': 266, 'own': 267, 'lives': 268, 'beliefs': 269, 'actions': 270, 'urging': 271, 'align': 272, 'thoughts': 273, 'deeds': 274, 'higher': 275, 'principles': 276, 'times': 277, 'joy': 278, 'sorrow': 279, 'success': 280, 'failure': 281, 'offer': 282, 'reminding': 283, 'us': 284, 'impermanence': 285, 'material': 286, 'enduring': 287, 'truth': 288, 'realm': 289, 'mother': 290, 'unable': 291, 'bear': 292, 'burden': 293, 'sins': 294, 'committed': 295, 'evil': 296, 'kings': 297, 'appealed': 298, 'creator': 299, 'help': 300, 'turn': 301, 'prayed': 302, 'supreme': 303, 'assured': 304, 'soon': 305, 'annihilate': 306, 'tyrannical': 307, 'forces': 308, 'ruler': 309, 'northern': 310, 'india': 311, 'such': 312, 'tyrant': 313, 'inspiring': 314, 'fear': 315, 'among': 316, 'day': 317, 'sister': 318, 'married': 319, 'voice': 320, 'sky': 321, 'prophesied': 322, \"devaki's\": 323, 'destroy': 324, 'frightened': 325, 'jailed': 326, 'vowed': 327, 'any': 328, 'made': 329, 'word': 330, 'killing': 331, 'first': 332, 'seven': 333, 'infants': 334, 'bore': 335, 'imprisoned': 336, 'feared': 337, 'meet': 338, 'same': 339, 'fate': 340, 'appeared': 341, 'before': 342, 'telling': 343, 'guise': 344, 'rescue': 345, 'tyranny': 346, 'baby': 347, 'found': 348, 'himself': 349, 'magically': 350, 'freed': 351, 'fled': 352, 'safe': 353, 'house': 354, 'along': 355, 'removed': 356, 'obstacles': 357, 'like': 358, 'snakes': 359, 'floods': 360, \"vasudeva's\": 361, 'family': 362, 'cowherds': 363, 'exchanging': 364, 'him': 365, 'newborn': 366, 'learned': 367, 'rushed': 368, 'arrived': 369, 'ascended': 370, 'heavens': 371, 'transformed': 372, 'goddess': 373, 'yogamaya': 374, 'she': 375, 'warned': 376, 'nemesis': 377, 'had': 378, 'already': 379, 'elsewhere': 380, 'meanwhile': 381, 'raised': 382, 'cowherd': 383, 'leading': 384, 'an': 385, 'idyllic': 386, 'childhood': 387, 'matured': 388, 'skillful': 389, 'musician': 390, 'wooing': 391, 'women': 392, 'village': 393, 'flute': 394, 'playing': 395, 'eventually': 396, 'where': 397, 'slew': 398, 'henchmen': 399, 'restored': 400, 'father': 401, 'friendly': 402, 'many': 403, \"hinduism's\": 404, 'heroes': 405, 'including': 406, 'warrior': 407}\n"
          ]
        }
      ],
      "source": [
        "token.fit_on_texts(texts)\n",
        "print(token.word_index)\n"
      ]
    },
    {
      "cell_type": "code",
      "source": [
        "# Serializing json\n",
        "json_object = json.dumps(token.word_index)\n",
        "\n",
        "# Writing to sample.json\n",
        "with open(\"dailogtoken.json\", \"w\") as outfile:\n",
        "    outfile.write(json_object)\n"
      ],
      "metadata": {
        "id": "dqpYUCXuhBxU"
      },
      "id": "dqpYUCXuhBxU",
      "execution_count": null,
      "outputs": []
    },
    {
      "cell_type": "code",
      "execution_count": null,
      "id": "33184d70-49d7-415e-9928-7d89fbbf8499",
      "metadata": {
        "id": "33184d70-49d7-415e-9928-7d89fbbf8499"
      },
      "outputs": [],
      "source": [
        "twords = len(token.word_index)+1"
      ]
    },
    {
      "cell_type": "code",
      "execution_count": null,
      "id": "61285892-2c8e-4210-ae20-9bbc78a878a7",
      "metadata": {
        "id": "61285892-2c8e-4210-ae20-9bbc78a878a7"
      },
      "outputs": [],
      "source": [
        "input_seq=[]\n",
        "listofseq=[]\n",
        "for line in texts:\n",
        "    token_seq = token.texts_to_sequences([line])[0]\n",
        "    listofseq.append(token_seq)\n",
        "    length=len(token_seq)\n",
        "real_seq = list(filter(None, listofseq))\n",
        "for seq in real_seq:\n",
        "    size = len(seq)\n",
        "    for i in range(1,size):\n",
        "        input_seq.append(seq[:i+1])"
      ]
    },
    {
      "cell_type": "code",
      "execution_count": null,
      "id": "370bc33d-98e9-425b-aed1-770ed36521f6",
      "metadata": {
        "colab": {
          "base_uri": "https://localhost:8080/"
        },
        "id": "370bc33d-98e9-425b-aed1-770ed36521f6",
        "outputId": "057f85d4-3ae6-4679-e702-46f00e3fb987"
      },
      "outputs": [
        {
          "output_type": "stream",
          "name": "stdout",
          "text": [
            "828\n",
            "80\n"
          ]
        }
      ],
      "source": [
        "max_length = max([len(x) for x in real_seq])\n",
        "print(len(input_seq))\n",
        "print(max_length)"
      ]
    },
    {
      "cell_type": "code",
      "execution_count": null,
      "id": "f0e5b606-edca-4925-85e8-6972e101c5cb",
      "metadata": {
        "colab": {
          "base_uri": "https://localhost:8080/"
        },
        "id": "f0e5b606-edca-4925-85e8-6972e101c5cb",
        "outputId": "a3a3dca4-c634-4e90-96a7-078a02d7ee1a"
      },
      "outputs": [
        {
          "output_type": "stream",
          "name": "stdout",
          "text": [
            "[0 0 0 0 0 0 0 0 0 0 0 0 0 0 0 0 0 0 0 0 0 0 0 0 0 0 0 0 0 0 0 0 0 0 0 0 0\n",
            " 0 0 0 0 0 0 0 0 0 0 0 0 0 0 0 0 0 0 0 0 0 0 0 0 0 0 0 0 0 0 0 0 0 0 0 0 0\n",
            " 0 0 0 0 9 6]\n"
          ]
        }
      ],
      "source": [
        "input_seq = np.array(pad_sequences(input_seq,maxlen= max_length,padding ='pre'))\n",
        "print(input_seq[0])"
      ]
    },
    {
      "cell_type": "code",
      "execution_count": null,
      "id": "a4b0a3df-1ee4-44aa-94d1-a28ed21b2d0e",
      "metadata": {
        "id": "a4b0a3df-1ee4-44aa-94d1-a28ed21b2d0e"
      },
      "outputs": [],
      "source": [
        "train = input_seq[:,:-1]\n",
        "label = input_seq[:,-1]\n",
        "y = tf.keras.utils.to_categorical(label,num_classes=twords)"
      ]
    },
    {
      "cell_type": "code",
      "execution_count": null,
      "id": "4a7d26e0-963a-46fe-9766-39fbce5d914e",
      "metadata": {
        "colab": {
          "base_uri": "https://localhost:8080/"
        },
        "id": "4a7d26e0-963a-46fe-9766-39fbce5d914e",
        "outputId": "1a76a8e6-1cbf-4dc5-b22d-cd4f670b6a1c"
      },
      "outputs": [
        {
          "output_type": "stream",
          "name": "stdout",
          "text": [
            "(828, 408)\n"
          ]
        }
      ],
      "source": [
        "print(y.shape)"
      ]
    },
    {
      "cell_type": "code",
      "execution_count": null,
      "id": "0613b2dc-b438-45ea-8323-ed62c3e048c1",
      "metadata": {
        "colab": {
          "base_uri": "https://localhost:8080/"
        },
        "id": "0613b2dc-b438-45ea-8323-ed62c3e048c1",
        "outputId": "dd32bce6-d3a7-49af-a1bd-ff200b729432",
        "collapsed": true
      },
      "outputs": [
        {
          "output_type": "stream",
          "name": "stdout",
          "text": [
            "Model: \"sequential\"\n",
            "_________________________________________________________________\n",
            " Layer (type)                Output Shape              Param #   \n",
            "=================================================================\n",
            " embedding (Embedding)       (None, 79, 120)           48960     \n",
            "                                                                 \n",
            " bidirectional (Bidirection  (None, 300)               325200    \n",
            " al)                                                             \n",
            "                                                                 \n",
            " dense (Dense)               (None, 408)               122808    \n",
            "                                                                 \n",
            "=================================================================\n",
            "Total params: 496968 (1.90 MB)\n",
            "Trainable params: 496968 (1.90 MB)\n",
            "Non-trainable params: 0 (0.00 Byte)\n",
            "_________________________________________________________________\n"
          ]
        }
      ],
      "source": [
        "# bhai plz is ko barbar run mat ker new model bante hai\n",
        "model1 = keras.Sequential([keras.layers.Embedding(twords,200,input_length = max_length-1),\n",
        "                           keras.layers.Bidirectional(LSTM(150)),\n",
        "                           keras.layers.Dense(twords, activation='softmax') ])\n",
        "model1.summary()\n",
        "adam =Adam(learning_rate =0.1)\n",
        "model1.compile(loss='categorical_crossentropy', optimizer=adam, metrics=['accuracy'])\n",
        "\n"
      ]
    },
    {
      "cell_type": "code",
      "source": [
        "model1.fit(train,y,epochs =50,verbose =1)"
      ],
      "metadata": {
        "colab": {
          "base_uri": "https://localhost:8080/"
        },
        "id": "SCGn4AUSkq-C",
        "outputId": "cefa08d3-d4dc-4a48-d13e-0400ef5386a0"
      },
      "id": "SCGn4AUSkq-C",
      "execution_count": null,
      "outputs": [
        {
          "output_type": "stream",
          "name": "stdout",
          "text": [
            "Epoch 1/50\n",
            "26/26 [==============================] - 10s 269ms/step - loss: 19.0752 - accuracy: 0.0169\n",
            "Epoch 2/50\n",
            "26/26 [==============================] - 6s 248ms/step - loss: 17.2728 - accuracy: 0.0217\n",
            "Epoch 3/50\n",
            "26/26 [==============================] - 6s 232ms/step - loss: 14.2059 - accuracy: 0.0580\n",
            "Epoch 4/50\n",
            "26/26 [==============================] - 6s 235ms/step - loss: 11.8158 - accuracy: 0.1171\n",
            "Epoch 5/50\n",
            "26/26 [==============================] - 6s 232ms/step - loss: 10.2483 - accuracy: 0.1389\n",
            "Epoch 6/50\n",
            "26/26 [==============================] - 6s 236ms/step - loss: 9.4864 - accuracy: 0.1993\n",
            "Epoch 7/50\n",
            "26/26 [==============================] - 6s 232ms/step - loss: 8.9790 - accuracy: 0.2560\n",
            "Epoch 8/50\n",
            "26/26 [==============================] - 6s 232ms/step - loss: 8.3609 - accuracy: 0.2585\n",
            "Epoch 9/50\n",
            "26/26 [==============================] - 6s 232ms/step - loss: 8.1344 - accuracy: 0.2862\n",
            "Epoch 10/50\n",
            "26/26 [==============================] - 6s 232ms/step - loss: 8.1846 - accuracy: 0.2874\n",
            "Epoch 11/50\n",
            "26/26 [==============================] - 6s 244ms/step - loss: 8.1654 - accuracy: 0.2862\n",
            "Epoch 12/50\n",
            "26/26 [==============================] - 6s 240ms/step - loss: 9.1805 - accuracy: 0.2802\n",
            "Epoch 13/50\n",
            "26/26 [==============================] - 6s 235ms/step - loss: 9.6199 - accuracy: 0.2633\n",
            "Epoch 14/50\n",
            "26/26 [==============================] - 6s 233ms/step - loss: 9.1932 - accuracy: 0.2935\n",
            "Epoch 15/50\n",
            "26/26 [==============================] - 6s 233ms/step - loss: 8.8481 - accuracy: 0.3019\n",
            "Epoch 16/50\n",
            "26/26 [==============================] - 6s 236ms/step - loss: 9.6216 - accuracy: 0.2802\n",
            "Epoch 17/50\n",
            "26/26 [==============================] - 6s 232ms/step - loss: 10.3253 - accuracy: 0.2790\n",
            "Epoch 18/50\n",
            "26/26 [==============================] - 6s 232ms/step - loss: 10.2936 - accuracy: 0.2742\n",
            "Epoch 19/50\n",
            "26/26 [==============================] - 6s 232ms/step - loss: 9.4043 - accuracy: 0.3031\n",
            "Epoch 20/50\n",
            "26/26 [==============================] - 6s 240ms/step - loss: 8.4111 - accuracy: 0.3442\n",
            "Epoch 21/50\n",
            "26/26 [==============================] - 6s 244ms/step - loss: 7.3718 - accuracy: 0.3816\n",
            "Epoch 22/50\n",
            "26/26 [==============================] - 6s 232ms/step - loss: 6.2452 - accuracy: 0.4384\n",
            "Epoch 23/50\n",
            "26/26 [==============================] - 6s 232ms/step - loss: 6.4489 - accuracy: 0.4251\n",
            "Epoch 24/50\n",
            "26/26 [==============================] - 6s 232ms/step - loss: 6.3470 - accuracy: 0.4771\n",
            "Epoch 25/50\n",
            "26/26 [==============================] - 6s 236ms/step - loss: 5.9448 - accuracy: 0.4710\n",
            "Epoch 26/50\n",
            "26/26 [==============================] - 6s 233ms/step - loss: 6.4921 - accuracy: 0.4771\n",
            "Epoch 27/50\n",
            "26/26 [==============================] - 6s 232ms/step - loss: 7.0571 - accuracy: 0.4481\n",
            "Epoch 28/50\n",
            "26/26 [==============================] - 6s 232ms/step - loss: 6.6658 - accuracy: 0.4686\n",
            "Epoch 29/50\n",
            "26/26 [==============================] - 6s 236ms/step - loss: 7.0467 - accuracy: 0.4118\n",
            "Epoch 30/50\n",
            "26/26 [==============================] - 6s 232ms/step - loss: 7.4722 - accuracy: 0.4239\n",
            "Epoch 31/50\n",
            "26/26 [==============================] - 6s 232ms/step - loss: 7.2635 - accuracy: 0.4324\n",
            "Epoch 32/50\n",
            "26/26 [==============================] - 6s 232ms/step - loss: 7.3431 - accuracy: 0.4155\n",
            "Epoch 33/50\n",
            "26/26 [==============================] - 6s 232ms/step - loss: 7.2290 - accuracy: 0.4384\n",
            "Epoch 34/50\n",
            "26/26 [==============================] - 6s 235ms/step - loss: 6.5686 - accuracy: 0.4577\n",
            "Epoch 35/50\n",
            "26/26 [==============================] - 6s 232ms/step - loss: 7.3162 - accuracy: 0.4251\n",
            "Epoch 36/50\n",
            "26/26 [==============================] - 6s 232ms/step - loss: 8.7147 - accuracy: 0.3937\n",
            "Epoch 37/50\n",
            "26/26 [==============================] - 6s 232ms/step - loss: 9.0097 - accuracy: 0.3768\n",
            "Epoch 38/50\n",
            "26/26 [==============================] - 6s 232ms/step - loss: 9.6342 - accuracy: 0.3575\n",
            "Epoch 39/50\n",
            "26/26 [==============================] - 6s 232ms/step - loss: 9.8292 - accuracy: 0.3647\n",
            "Epoch 40/50\n",
            "26/26 [==============================] - 6s 232ms/step - loss: 9.7930 - accuracy: 0.3853\n",
            "Epoch 41/50\n",
            "26/26 [==============================] - 6s 232ms/step - loss: 9.2467 - accuracy: 0.4046\n",
            "Epoch 42/50\n",
            "26/26 [==============================] - 6s 232ms/step - loss: 8.7665 - accuracy: 0.3696\n",
            "Epoch 43/50\n",
            "26/26 [==============================] - 6s 232ms/step - loss: 8.1083 - accuracy: 0.4094\n",
            "Epoch 44/50\n",
            "26/26 [==============================] - 6s 232ms/step - loss: 7.5753 - accuracy: 0.4384\n",
            "Epoch 45/50\n",
            "26/26 [==============================] - 6s 233ms/step - loss: 8.7115 - accuracy: 0.4070\n",
            "Epoch 46/50\n",
            "26/26 [==============================] - 6s 236ms/step - loss: 8.2662 - accuracy: 0.4444\n",
            "Epoch 47/50\n",
            "26/26 [==============================] - 6s 232ms/step - loss: 5.5762 - accuracy: 0.5193\n",
            "Epoch 48/50\n",
            "26/26 [==============================] - 6s 229ms/step - loss: 4.5806 - accuracy: 0.5966\n",
            "Epoch 49/50\n",
            "26/26 [==============================] - 6s 229ms/step - loss: 3.8183 - accuracy: 0.6316\n",
            "Epoch 50/50\n",
            "26/26 [==============================] - 6s 232ms/step - loss: 3.1227 - accuracy: 0.6824\n"
          ]
        },
        {
          "output_type": "execute_result",
          "data": {
            "text/plain": [
              "<keras.src.callbacks.History at 0x7ed8f4106830>"
            ]
          },
          "metadata": {},
          "execution_count": 28
        }
      ]
    },
    {
      "cell_type": "code",
      "source": [
        "history = model1.fit(train[:10000],y[:10000],epochs =50,verbose =1)\n"
      ],
      "metadata": {
        "colab": {
          "base_uri": "https://localhost:8080/"
        },
        "id": "YuyD_F5q_UMp",
        "outputId": "4cb6f074-f885-4375-b033-513bfd7682dd",
        "collapsed": true
      },
      "id": "YuyD_F5q_UMp",
      "execution_count": null,
      "outputs": [
        {
          "output_type": "stream",
          "name": "stdout",
          "text": [
            "Epoch 1/50\n",
            "313/313 [==============================] - 16s 35ms/step - loss: 14.8579 - accuracy: 0.0299\n",
            "Epoch 2/50\n",
            "313/313 [==============================] - 3s 11ms/step - loss: 14.2544 - accuracy: 0.0565\n",
            "Epoch 3/50\n",
            "313/313 [==============================] - 3s 9ms/step - loss: 14.5283 - accuracy: 0.0782\n",
            "Epoch 4/50\n",
            "313/313 [==============================] - 3s 9ms/step - loss: 14.4173 - accuracy: 0.0860\n",
            "Epoch 5/50\n",
            "313/313 [==============================] - 3s 9ms/step - loss: 14.9498 - accuracy: 0.0941\n",
            "Epoch 6/50\n",
            "313/313 [==============================] - 3s 9ms/step - loss: 14.1658 - accuracy: 0.1058\n",
            "Epoch 7/50\n",
            "313/313 [==============================] - 3s 8ms/step - loss: 14.8883 - accuracy: 0.1182\n",
            "Epoch 8/50\n",
            "313/313 [==============================] - 3s 9ms/step - loss: 15.6973 - accuracy: 0.1190\n",
            "Epoch 9/50\n",
            "313/313 [==============================] - 4s 13ms/step - loss: 15.2714 - accuracy: 0.1333\n",
            "Epoch 10/50\n",
            "313/313 [==============================] - 3s 10ms/step - loss: 15.5277 - accuracy: 0.1377\n",
            "Epoch 11/50\n",
            "313/313 [==============================] - 3s 8ms/step - loss: 14.4584 - accuracy: 0.1586\n",
            "Epoch 12/50\n",
            "313/313 [==============================] - 2s 8ms/step - loss: 13.3795 - accuracy: 0.1793\n",
            "Epoch 13/50\n",
            "313/313 [==============================] - 3s 8ms/step - loss: 13.2978 - accuracy: 0.1817\n",
            "Epoch 14/50\n",
            "313/313 [==============================] - 3s 10ms/step - loss: 13.3836 - accuracy: 0.1949\n",
            "Epoch 15/50\n",
            "313/313 [==============================] - 2s 8ms/step - loss: 13.4536 - accuracy: 0.1973\n",
            "Epoch 16/50\n",
            "313/313 [==============================] - 3s 8ms/step - loss: 13.2935 - accuracy: 0.2046\n",
            "Epoch 17/50\n",
            "313/313 [==============================] - 3s 9ms/step - loss: 14.0773 - accuracy: 0.2002\n",
            "Epoch 18/50\n",
            "313/313 [==============================] - 3s 9ms/step - loss: 14.4797 - accuracy: 0.2014\n",
            "Epoch 19/50\n",
            "313/313 [==============================] - 4s 12ms/step - loss: 13.7005 - accuracy: 0.2178\n",
            "Epoch 20/50\n",
            "313/313 [==============================] - 3s 8ms/step - loss: 13.9535 - accuracy: 0.2152\n",
            "Epoch 21/50\n",
            "313/313 [==============================] - 3s 8ms/step - loss: 14.4748 - accuracy: 0.2133\n",
            "Epoch 22/50\n",
            "313/313 [==============================] - 2s 8ms/step - loss: 14.8566 - accuracy: 0.2094\n",
            "Epoch 23/50\n",
            "313/313 [==============================] - 4s 13ms/step - loss: 14.2050 - accuracy: 0.2355\n",
            "Epoch 24/50\n",
            "313/313 [==============================] - 3s 9ms/step - loss: 13.7717 - accuracy: 0.2494\n",
            "Epoch 25/50\n",
            "313/313 [==============================] - 3s 10ms/step - loss: 14.3865 - accuracy: 0.2434\n",
            "Epoch 26/50\n",
            "313/313 [==============================] - 3s 10ms/step - loss: 13.3278 - accuracy: 0.2617\n",
            "Epoch 27/50\n",
            "313/313 [==============================] - 4s 13ms/step - loss: 13.4146 - accuracy: 0.2585\n",
            "Epoch 28/50\n",
            "313/313 [==============================] - 3s 9ms/step - loss: 14.1593 - accuracy: 0.2603\n",
            "Epoch 29/50\n",
            "313/313 [==============================] - 3s 9ms/step - loss: 14.4381 - accuracy: 0.2631\n",
            "Epoch 30/50\n",
            "313/313 [==============================] - 3s 8ms/step - loss: 14.0798 - accuracy: 0.2653\n",
            "Epoch 31/50\n",
            "313/313 [==============================] - 4s 12ms/step - loss: 14.8111 - accuracy: 0.2607\n",
            "Epoch 32/50\n",
            "313/313 [==============================] - 3s 8ms/step - loss: 13.8917 - accuracy: 0.2809\n",
            "Epoch 33/50\n",
            "313/313 [==============================] - 2s 8ms/step - loss: 12.4044 - accuracy: 0.3073\n",
            "Epoch 34/50\n",
            "313/313 [==============================] - 3s 8ms/step - loss: 12.2242 - accuracy: 0.3142\n",
            "Epoch 35/50\n",
            "313/313 [==============================] - 3s 9ms/step - loss: 11.7144 - accuracy: 0.3270\n",
            "Epoch 36/50\n",
            "313/313 [==============================] - 3s 10ms/step - loss: 11.9839 - accuracy: 0.3374\n",
            "Epoch 37/50\n",
            "313/313 [==============================] - 3s 8ms/step - loss: 12.3732 - accuracy: 0.3221\n",
            "Epoch 38/50\n",
            "313/313 [==============================] - 3s 9ms/step - loss: 12.1505 - accuracy: 0.3242\n",
            "Epoch 39/50\n",
            "313/313 [==============================] - 3s 8ms/step - loss: 12.6020 - accuracy: 0.3169\n",
            "Epoch 40/50\n",
            "313/313 [==============================] - 3s 11ms/step - loss: 11.9513 - accuracy: 0.3390\n",
            "Epoch 41/50\n",
            "313/313 [==============================] - 2s 8ms/step - loss: 12.1512 - accuracy: 0.3324\n",
            "Epoch 42/50\n",
            "313/313 [==============================] - 3s 8ms/step - loss: 12.3124 - accuracy: 0.3365\n",
            "Epoch 43/50\n",
            "313/313 [==============================] - 3s 9ms/step - loss: 11.3250 - accuracy: 0.3614\n",
            "Epoch 44/50\n",
            "313/313 [==============================] - 3s 8ms/step - loss: 11.3104 - accuracy: 0.3546\n",
            "Epoch 45/50\n",
            "313/313 [==============================] - 3s 10ms/step - loss: 11.6403 - accuracy: 0.3528\n",
            "Epoch 46/50\n",
            "313/313 [==============================] - 3s 8ms/step - loss: 11.8901 - accuracy: 0.3416\n",
            "Epoch 47/50\n",
            "313/313 [==============================] - 2s 8ms/step - loss: 13.3709 - accuracy: 0.3326\n",
            "Epoch 48/50\n",
            "313/313 [==============================] - 3s 8ms/step - loss: 12.6111 - accuracy: 0.3380\n",
            "Epoch 49/50\n",
            "313/313 [==============================] - 3s 10ms/step - loss: 12.5146 - accuracy: 0.3463\n",
            "Epoch 50/50\n",
            "313/313 [==============================] - 3s 9ms/step - loss: 12.2934 - accuracy: 0.3482\n"
          ]
        }
      ]
    },
    {
      "cell_type": "code",
      "source": [
        "model1.fit(train[10000:20000],y[10000:20000],epochs =50,verbose =1)\n"
      ],
      "metadata": {
        "colab": {
          "base_uri": "https://localhost:8080/"
        },
        "id": "H8FfWsn1dZgE",
        "outputId": "72275a78-dd6b-47a2-e327-722dae091568",
        "collapsed": true
      },
      "id": "H8FfWsn1dZgE",
      "execution_count": null,
      "outputs": [
        {
          "output_type": "stream",
          "name": "stdout",
          "text": [
            "Epoch 1/50\n",
            "313/313 [==============================] - 3s 9ms/step - loss: 11.8890 - accuracy: 0.4356\n",
            "Epoch 2/50\n",
            "313/313 [==============================] - 3s 8ms/step - loss: 11.9986 - accuracy: 0.4332\n",
            "Epoch 3/50\n",
            "313/313 [==============================] - 3s 9ms/step - loss: 10.2695 - accuracy: 0.4684\n",
            "Epoch 4/50\n",
            "313/313 [==============================] - 3s 10ms/step - loss: 9.9588 - accuracy: 0.4740\n",
            "Epoch 5/50\n",
            "313/313 [==============================] - 2s 8ms/step - loss: 10.4971 - accuracy: 0.4739\n",
            "Epoch 6/50\n",
            "313/313 [==============================] - 2s 8ms/step - loss: 10.9685 - accuracy: 0.4566\n",
            "Epoch 7/50\n",
            "313/313 [==============================] - 2s 8ms/step - loss: 10.1876 - accuracy: 0.4826\n",
            "Epoch 8/50\n",
            "313/313 [==============================] - 3s 10ms/step - loss: 10.9552 - accuracy: 0.4676\n",
            "Epoch 9/50\n",
            "313/313 [==============================] - 3s 9ms/step - loss: 11.8850 - accuracy: 0.4409\n",
            "Epoch 10/50\n",
            "313/313 [==============================] - 3s 8ms/step - loss: 12.1321 - accuracy: 0.4417\n",
            "Epoch 11/50\n",
            "313/313 [==============================] - 2s 8ms/step - loss: 12.4152 - accuracy: 0.4289\n",
            "Epoch 12/50\n",
            "313/313 [==============================] - 2s 8ms/step - loss: 12.1910 - accuracy: 0.4257\n",
            "Epoch 13/50\n",
            "313/313 [==============================] - 4s 12ms/step - loss: 12.3161 - accuracy: 0.4375\n",
            "Epoch 14/50\n",
            "313/313 [==============================] - 2s 8ms/step - loss: 11.1034 - accuracy: 0.4571\n",
            "Epoch 15/50\n",
            "313/313 [==============================] - 2s 8ms/step - loss: 11.1108 - accuracy: 0.4561\n",
            "Epoch 16/50\n",
            "313/313 [==============================] - 2s 8ms/step - loss: 12.1510 - accuracy: 0.4457\n",
            "Epoch 17/50\n",
            "313/313 [==============================] - 3s 8ms/step - loss: 11.8899 - accuracy: 0.4413\n",
            "Epoch 18/50\n",
            "313/313 [==============================] - 3s 10ms/step - loss: 11.9562 - accuracy: 0.4479\n",
            "Epoch 19/50\n",
            "313/313 [==============================] - 2s 8ms/step - loss: 11.3607 - accuracy: 0.4597\n",
            "Epoch 20/50\n",
            "313/313 [==============================] - 3s 8ms/step - loss: 11.2702 - accuracy: 0.4579\n",
            "Epoch 21/50\n",
            "313/313 [==============================] - 3s 8ms/step - loss: 11.1327 - accuracy: 0.4652\n",
            "Epoch 22/50\n",
            "313/313 [==============================] - 3s 9ms/step - loss: 10.5042 - accuracy: 0.4839\n",
            "Epoch 23/50\n",
            "313/313 [==============================] - 3s 9ms/step - loss: 10.9373 - accuracy: 0.4793\n",
            "Epoch 24/50\n",
            "313/313 [==============================] - 2s 8ms/step - loss: 10.8625 - accuracy: 0.4817\n",
            "Epoch 25/50\n",
            "313/313 [==============================] - 3s 8ms/step - loss: 11.1565 - accuracy: 0.4723\n",
            "Epoch 26/50\n",
            "313/313 [==============================] - 3s 8ms/step - loss: 11.2858 - accuracy: 0.4795\n",
            "Epoch 27/50\n",
            "313/313 [==============================] - 3s 11ms/step - loss: 12.0950 - accuracy: 0.4595\n",
            "Epoch 28/50\n",
            "313/313 [==============================] - 3s 8ms/step - loss: 11.1688 - accuracy: 0.4689\n",
            "Epoch 29/50\n",
            "313/313 [==============================] - 2s 8ms/step - loss: 10.5223 - accuracy: 0.4843\n",
            "Epoch 30/50\n",
            "313/313 [==============================] - 3s 8ms/step - loss: 10.8691 - accuracy: 0.4778\n",
            "Epoch 31/50\n",
            "313/313 [==============================] - 3s 8ms/step - loss: 10.3945 - accuracy: 0.5014\n",
            "Epoch 32/50\n",
            "313/313 [==============================] - 3s 10ms/step - loss: 10.3897 - accuracy: 0.4879\n",
            "Epoch 33/50\n",
            "313/313 [==============================] - 2s 8ms/step - loss: 10.3344 - accuracy: 0.4925\n",
            "Epoch 34/50\n",
            "313/313 [==============================] - 3s 8ms/step - loss: 10.3147 - accuracy: 0.4946\n",
            "Epoch 35/50\n",
            "313/313 [==============================] - 3s 8ms/step - loss: 10.2297 - accuracy: 0.4974\n",
            "Epoch 36/50\n",
            "313/313 [==============================] - 3s 10ms/step - loss: 10.4518 - accuracy: 0.4956\n",
            "Epoch 37/50\n",
            "313/313 [==============================] - 3s 9ms/step - loss: 10.8036 - accuracy: 0.4906\n",
            "Epoch 38/50\n",
            "313/313 [==============================] - 3s 8ms/step - loss: 10.3691 - accuracy: 0.4981\n",
            "Epoch 39/50\n",
            "313/313 [==============================] - 2s 8ms/step - loss: 10.8170 - accuracy: 0.4881\n",
            "Epoch 40/50\n",
            "313/313 [==============================] - 2s 8ms/step - loss: 10.1037 - accuracy: 0.5011\n",
            "Epoch 41/50\n",
            "313/313 [==============================] - 3s 11ms/step - loss: 10.2146 - accuracy: 0.5044\n",
            "Epoch 42/50\n",
            "313/313 [==============================] - 3s 8ms/step - loss: 10.8293 - accuracy: 0.4900\n",
            "Epoch 43/50\n",
            "313/313 [==============================] - 2s 8ms/step - loss: 10.6793 - accuracy: 0.4957\n",
            "Epoch 44/50\n",
            "313/313 [==============================] - 2s 8ms/step - loss: 10.9510 - accuracy: 0.4902\n",
            "Epoch 45/50\n",
            "313/313 [==============================] - 3s 8ms/step - loss: 10.7325 - accuracy: 0.4906\n",
            "Epoch 46/50\n",
            "313/313 [==============================] - 3s 10ms/step - loss: 12.1945 - accuracy: 0.4709\n",
            "Epoch 47/50\n",
            "313/313 [==============================] - 2s 8ms/step - loss: 12.7968 - accuracy: 0.4498\n",
            "Epoch 48/50\n",
            "313/313 [==============================] - 3s 9ms/step - loss: 11.8100 - accuracy: 0.4648\n",
            "Epoch 49/50\n",
            "313/313 [==============================] - 2s 8ms/step - loss: 11.6000 - accuracy: 0.4751\n",
            "Epoch 50/50\n",
            "313/313 [==============================] - 3s 9ms/step - loss: 11.4575 - accuracy: 0.4791\n"
          ]
        },
        {
          "output_type": "execute_result",
          "data": {
            "text/plain": [
              "<keras.src.callbacks.History at 0x7d2b765cf6a0>"
            ]
          },
          "metadata": {},
          "execution_count": 19
        }
      ]
    },
    {
      "cell_type": "code",
      "source": [
        "model1.fit(train[20000:30000],y[20000:30000],epochs =50,verbose =1)\n"
      ],
      "metadata": {
        "colab": {
          "base_uri": "https://localhost:8080/"
        },
        "id": "DbeS9J8hdZ97",
        "outputId": "15c7cf94-b714-40a7-a196-5a9650dd92f2",
        "collapsed": true
      },
      "id": "DbeS9J8hdZ97",
      "execution_count": null,
      "outputs": [
        {
          "output_type": "stream",
          "name": "stdout",
          "text": [
            "Epoch 1/50\n",
            "313/313 [==============================] - 2s 8ms/step - loss: 90.7344 - accuracy: 0.0661\n",
            "Epoch 2/50\n",
            "313/313 [==============================] - 3s 10ms/step - loss: 45.1408 - accuracy: 0.1579\n",
            "Epoch 3/50\n",
            "313/313 [==============================] - 2s 8ms/step - loss: 31.0509 - accuracy: 0.2140\n",
            "Epoch 4/50\n",
            "313/313 [==============================] - 3s 8ms/step - loss: 23.1978 - accuracy: 0.2773\n",
            "Epoch 5/50\n",
            "313/313 [==============================] - 2s 7ms/step - loss: 19.0610 - accuracy: 0.3171\n",
            "Epoch 6/50\n",
            "313/313 [==============================] - 2s 8ms/step - loss: 15.9970 - accuracy: 0.3563\n",
            "Epoch 7/50\n",
            "313/313 [==============================] - 3s 10ms/step - loss: 13.9339 - accuracy: 0.3920\n",
            "Epoch 8/50\n",
            "313/313 [==============================] - 2s 8ms/step - loss: 13.0264 - accuracy: 0.4071\n",
            "Epoch 9/50\n",
            "313/313 [==============================] - 2s 7ms/step - loss: 13.3477 - accuracy: 0.3882\n",
            "Epoch 10/50\n",
            "313/313 [==============================] - 2s 7ms/step - loss: 12.7123 - accuracy: 0.4090\n",
            "Epoch 11/50\n",
            "313/313 [==============================] - 3s 8ms/step - loss: 11.4514 - accuracy: 0.4364\n",
            "Epoch 12/50\n",
            "313/313 [==============================] - 3s 9ms/step - loss: 10.2107 - accuracy: 0.4680\n",
            "Epoch 13/50\n",
            "313/313 [==============================] - 2s 8ms/step - loss: 10.4810 - accuracy: 0.4581\n",
            "Epoch 14/50\n",
            "313/313 [==============================] - 2s 7ms/step - loss: 10.6498 - accuracy: 0.4664\n",
            "Epoch 15/50\n",
            "313/313 [==============================] - 2s 8ms/step - loss: 10.8018 - accuracy: 0.4589\n",
            "Epoch 16/50\n",
            "313/313 [==============================] - 3s 9ms/step - loss: 10.8350 - accuracy: 0.4589\n",
            "Epoch 17/50\n",
            "313/313 [==============================] - 3s 9ms/step - loss: 10.8162 - accuracy: 0.4646\n",
            "Epoch 18/50\n",
            "313/313 [==============================] - 2s 8ms/step - loss: 10.6802 - accuracy: 0.4738\n",
            "Epoch 19/50\n",
            "313/313 [==============================] - 2s 8ms/step - loss: 10.8087 - accuracy: 0.4727\n",
            "Epoch 20/50\n",
            "313/313 [==============================] - 3s 9ms/step - loss: 11.0621 - accuracy: 0.4632\n",
            "Epoch 21/50\n",
            "313/313 [==============================] - 3s 11ms/step - loss: 11.0115 - accuracy: 0.4710\n",
            "Epoch 22/50\n",
            "313/313 [==============================] - 3s 8ms/step - loss: 11.6152 - accuracy: 0.4577\n",
            "Epoch 23/50\n",
            "313/313 [==============================] - 2s 8ms/step - loss: 11.2880 - accuracy: 0.4696\n",
            "Epoch 24/50\n",
            "313/313 [==============================] - 2s 8ms/step - loss: 10.6156 - accuracy: 0.4807\n",
            "Epoch 25/50\n",
            "313/313 [==============================] - 3s 8ms/step - loss: 10.3605 - accuracy: 0.4845\n",
            "Epoch 26/50\n",
            "313/313 [==============================] - 3s 10ms/step - loss: 10.3382 - accuracy: 0.4923\n",
            "Epoch 27/50\n",
            "313/313 [==============================] - 2s 8ms/step - loss: 10.5994 - accuracy: 0.4850\n",
            "Epoch 28/50\n",
            "313/313 [==============================] - 2s 8ms/step - loss: 10.9424 - accuracy: 0.4768\n",
            "Epoch 29/50\n",
            "313/313 [==============================] - 2s 8ms/step - loss: 11.0660 - accuracy: 0.4761\n",
            "Epoch 30/50\n",
            "313/313 [==============================] - 3s 9ms/step - loss: 11.0090 - accuracy: 0.4782\n",
            "Epoch 31/50\n",
            "313/313 [==============================] - 3s 10ms/step - loss: 11.2651 - accuracy: 0.4797\n",
            "Epoch 32/50\n",
            "313/313 [==============================] - 2s 8ms/step - loss: 10.7448 - accuracy: 0.4867\n",
            "Epoch 33/50\n",
            "313/313 [==============================] - 2s 8ms/step - loss: 10.7554 - accuracy: 0.4860\n",
            "Epoch 34/50\n",
            "313/313 [==============================] - 2s 8ms/step - loss: 10.4626 - accuracy: 0.4930\n",
            "Epoch 35/50\n",
            "313/313 [==============================] - 3s 9ms/step - loss: 10.5997 - accuracy: 0.4971\n",
            "Epoch 36/50\n",
            "313/313 [==============================] - 3s 9ms/step - loss: 9.3871 - accuracy: 0.5235\n",
            "Epoch 37/50\n",
            "313/313 [==============================] - 2s 8ms/step - loss: 9.7240 - accuracy: 0.5257\n",
            "Epoch 38/50\n",
            "313/313 [==============================] - 2s 8ms/step - loss: 9.4363 - accuracy: 0.5202\n",
            "Epoch 39/50\n",
            "313/313 [==============================] - 3s 8ms/step - loss: 10.0729 - accuracy: 0.5066\n",
            "Epoch 40/50\n",
            "313/313 [==============================] - 3s 10ms/step - loss: 10.2861 - accuracy: 0.5103\n",
            "Epoch 41/50\n",
            "313/313 [==============================] - 3s 8ms/step - loss: 9.6577 - accuracy: 0.5223\n",
            "Epoch 42/50\n",
            "313/313 [==============================] - 2s 8ms/step - loss: 9.3917 - accuracy: 0.5290\n",
            "Epoch 43/50\n",
            "313/313 [==============================] - 2s 8ms/step - loss: 9.9494 - accuracy: 0.5206\n",
            "Epoch 44/50\n",
            "313/313 [==============================] - 2s 8ms/step - loss: 9.6874 - accuracy: 0.5245\n",
            "Epoch 45/50\n",
            "313/313 [==============================] - 3s 10ms/step - loss: 9.4136 - accuracy: 0.5371\n",
            "Epoch 46/50\n",
            "313/313 [==============================] - 2s 7ms/step - loss: 9.8123 - accuracy: 0.5216\n",
            "Epoch 47/50\n",
            "313/313 [==============================] - 2s 8ms/step - loss: 10.0286 - accuracy: 0.5245\n",
            "Epoch 48/50\n",
            "313/313 [==============================] - 2s 7ms/step - loss: 10.6076 - accuracy: 0.5072\n",
            "Epoch 49/50\n",
            "313/313 [==============================] - 2s 7ms/step - loss: 9.9027 - accuracy: 0.5271\n",
            "Epoch 50/50\n",
            "313/313 [==============================] - 3s 10ms/step - loss: 10.2528 - accuracy: 0.5211\n"
          ]
        },
        {
          "output_type": "execute_result",
          "data": {
            "text/plain": [
              "<keras.src.callbacks.History at 0x7d2b77f18be0>"
            ]
          },
          "metadata": {},
          "execution_count": 20
        }
      ]
    },
    {
      "cell_type": "code",
      "source": [
        "model1.fit(train[30000:],y[30000:],epochs =50,verbose =1)\n"
      ],
      "metadata": {
        "colab": {
          "base_uri": "https://localhost:8080/"
        },
        "id": "g2zkKxgMTReK",
        "outputId": "cd9151d5-e2e6-43b0-c753-47a57eb92bbc",
        "collapsed": true
      },
      "id": "g2zkKxgMTReK",
      "execution_count": null,
      "outputs": [
        {
          "output_type": "stream",
          "name": "stdout",
          "text": [
            "Epoch 1/50\n",
            "313/313 [==============================] - 3s 9ms/step - loss: 54.1274 - accuracy: 0.0812\n",
            "Epoch 2/50\n",
            "313/313 [==============================] - 2s 8ms/step - loss: 28.5514 - accuracy: 0.1499\n",
            "Epoch 3/50\n",
            "313/313 [==============================] - 3s 11ms/step - loss: 20.6425 - accuracy: 0.2137\n",
            "Epoch 4/50\n",
            "313/313 [==============================] - 2s 8ms/step - loss: 16.7302 - accuracy: 0.2641\n",
            "Epoch 5/50\n",
            "313/313 [==============================] - 2s 8ms/step - loss: 14.6050 - accuracy: 0.3000\n",
            "Epoch 6/50\n",
            "313/313 [==============================] - 2s 8ms/step - loss: 13.4315 - accuracy: 0.3342\n",
            "Epoch 7/50\n",
            "313/313 [==============================] - 2s 8ms/step - loss: 14.2792 - accuracy: 0.3137\n",
            "Epoch 8/50\n",
            "313/313 [==============================] - 3s 10ms/step - loss: 13.7934 - accuracy: 0.3253\n",
            "Epoch 9/50\n",
            "313/313 [==============================] - 2s 8ms/step - loss: 12.8080 - accuracy: 0.3449\n",
            "Epoch 10/50\n",
            "313/313 [==============================] - 2s 8ms/step - loss: 13.3735 - accuracy: 0.3269\n",
            "Epoch 11/50\n",
            "313/313 [==============================] - 2s 8ms/step - loss: 12.4639 - accuracy: 0.3580\n",
            "Epoch 12/50\n",
            "313/313 [==============================] - 3s 9ms/step - loss: 12.3590 - accuracy: 0.3651\n",
            "Epoch 13/50\n",
            "313/313 [==============================] - 3s 10ms/step - loss: 13.7601 - accuracy: 0.3307\n",
            "Epoch 14/50\n",
            "313/313 [==============================] - 2s 8ms/step - loss: 13.9883 - accuracy: 0.3308\n",
            "Epoch 15/50\n",
            "313/313 [==============================] - 3s 9ms/step - loss: 13.1626 - accuracy: 0.3562\n",
            "Epoch 16/50\n",
            "313/313 [==============================] - 2s 8ms/step - loss: 12.0250 - accuracy: 0.3817\n",
            "Epoch 17/50\n",
            "313/313 [==============================] - 3s 11ms/step - loss: 12.5171 - accuracy: 0.3737\n",
            "Epoch 18/50\n",
            "313/313 [==============================] - 3s 9ms/step - loss: 12.9796 - accuracy: 0.3694\n",
            "Epoch 19/50\n",
            "313/313 [==============================] - 2s 8ms/step - loss: 12.6580 - accuracy: 0.3738\n",
            "Epoch 20/50\n",
            "313/313 [==============================] - 2s 8ms/step - loss: 13.0441 - accuracy: 0.3646\n",
            "Epoch 21/50\n",
            "313/313 [==============================] - 2s 8ms/step - loss: 12.7698 - accuracy: 0.3793\n",
            "Epoch 22/50\n",
            "313/313 [==============================] - 3s 11ms/step - loss: 12.0007 - accuracy: 0.3877\n",
            "Epoch 23/50\n",
            "313/313 [==============================] - 2s 8ms/step - loss: 11.3009 - accuracy: 0.4141\n",
            "Epoch 24/50\n",
            "313/313 [==============================] - 3s 9ms/step - loss: 11.0520 - accuracy: 0.4153\n",
            "Epoch 25/50\n",
            "313/313 [==============================] - 3s 9ms/step - loss: 11.6251 - accuracy: 0.4048\n",
            "Epoch 26/50\n",
            "313/313 [==============================] - 3s 9ms/step - loss: 11.8860 - accuracy: 0.3958\n",
            "Epoch 27/50\n",
            "313/313 [==============================] - 3s 9ms/step - loss: 12.9249 - accuracy: 0.3776\n",
            "Epoch 28/50\n",
            "313/313 [==============================] - 3s 8ms/step - loss: 12.3492 - accuracy: 0.3921\n",
            "Epoch 29/50\n",
            "313/313 [==============================] - 3s 8ms/step - loss: 11.1302 - accuracy: 0.4227\n",
            "Epoch 30/50\n",
            "313/313 [==============================] - 2s 8ms/step - loss: 11.2147 - accuracy: 0.4179\n",
            "Epoch 31/50\n",
            "313/313 [==============================] - 3s 11ms/step - loss: 11.8461 - accuracy: 0.4122\n",
            "Epoch 32/50\n",
            "313/313 [==============================] - 3s 8ms/step - loss: 11.6065 - accuracy: 0.4133\n",
            "Epoch 33/50\n",
            "313/313 [==============================] - 2s 8ms/step - loss: 11.2379 - accuracy: 0.4250\n",
            "Epoch 34/50\n",
            "313/313 [==============================] - 3s 8ms/step - loss: 11.1480 - accuracy: 0.4235\n",
            "Epoch 35/50\n",
            "313/313 [==============================] - 3s 9ms/step - loss: 11.7967 - accuracy: 0.4100\n",
            "Epoch 36/50\n",
            "313/313 [==============================] - 3s 10ms/step - loss: 11.9908 - accuracy: 0.4089\n",
            "Epoch 37/50\n",
            "313/313 [==============================] - 3s 8ms/step - loss: 11.8667 - accuracy: 0.4139\n",
            "Epoch 38/50\n",
            "313/313 [==============================] - 3s 9ms/step - loss: 11.5479 - accuracy: 0.4209\n",
            "Epoch 39/50\n",
            "313/313 [==============================] - 2s 8ms/step - loss: 10.6341 - accuracy: 0.4431\n",
            "Epoch 40/50\n",
            "313/313 [==============================] - 3s 9ms/step - loss: 10.9026 - accuracy: 0.4375\n",
            "Epoch 41/50\n",
            "313/313 [==============================] - 3s 9ms/step - loss: 11.0006 - accuracy: 0.4333\n",
            "Epoch 42/50\n",
            "313/313 [==============================] - 2s 8ms/step - loss: 11.2347 - accuracy: 0.4405\n",
            "Epoch 43/50\n",
            "313/313 [==============================] - 2s 8ms/step - loss: 11.0871 - accuracy: 0.4461\n",
            "Epoch 44/50\n",
            "313/313 [==============================] - 2s 8ms/step - loss: 10.7026 - accuracy: 0.4533\n",
            "Epoch 45/50\n",
            "313/313 [==============================] - 3s 11ms/step - loss: 10.6222 - accuracy: 0.4547\n",
            "Epoch 46/50\n",
            "313/313 [==============================] - 2s 8ms/step - loss: 10.6996 - accuracy: 0.4564\n",
            "Epoch 47/50\n",
            "313/313 [==============================] - 2s 8ms/step - loss: 11.1128 - accuracy: 0.4463\n",
            "Epoch 48/50\n",
            "313/313 [==============================] - 2s 8ms/step - loss: 10.9410 - accuracy: 0.4408\n",
            "Epoch 49/50\n",
            "313/313 [==============================] - 3s 8ms/step - loss: 12.0291 - accuracy: 0.4338\n",
            "Epoch 50/50\n",
            "313/313 [==============================] - 3s 10ms/step - loss: 12.3608 - accuracy: 0.4208\n"
          ]
        },
        {
          "output_type": "execute_result",
          "data": {
            "text/plain": [
              "<keras.src.callbacks.History at 0x7d2b76f55ba0>"
            ]
          },
          "metadata": {},
          "execution_count": 14
        }
      ]
    },
    {
      "cell_type": "code",
      "execution_count": null,
      "id": "b76cd4df-fcf0-4163-ac1e-7ff4daa11bfd",
      "metadata": {
        "id": "b76cd4df-fcf0-4163-ac1e-7ff4daa11bfd"
      },
      "outputs": [],
      "source": [
        "model1.save(\"dialogbot.keras\")"
      ]
    },
    {
      "cell_type": "code",
      "source": [
        "print(type(token.word_index))\n",
        "print((token.word_index))\n",
        "def get_key(val):\n",
        "   for key, value in token.word_index.items():\n",
        "        if val == value:\n",
        "            return key"
      ],
      "metadata": {
        "colab": {
          "base_uri": "https://localhost:8080/"
        },
        "id": "0xgpsw9APrfX",
        "outputId": "1dbf3703-b5e8-4d25-c0ea-b8838babe395",
        "collapsed": true
      },
      "id": "0xgpsw9APrfX",
      "execution_count": null,
      "outputs": [
        {
          "output_type": "stream",
          "name": "stdout",
          "text": [
            "<class 'dict'>\n",
            "{'$_$': 1, 'the': 2, 'and': 3, 'to': 4, 'of': 5, 'krishna': 6, 'in': 7, 'a': 8, 'lord': 9, 'is': 10, 'he': 11, 'his': 12, 'that': 13, '”': 14, '―': 15, 'their': 16, 'was': 17, 'will': 18, 'from': 19, 'with': 20, 'kamsa': 21, 'love': 22, 'gave': 23, 'vishnu': 24, 'self': 25, 'on': 26, 'krishna’s': 27, 'vasudeva': 28, 'world': 29, 'be': 30, 'by': 31, 'who': 32, 'good': 33, 'not': 34, 'them': 35, 'would': 36, 'through': 37, 'bhagavad': 38, 'gita': 39, 'those': 40, 'arjuna': 41, 'eighth': 42, 'are': 43, 'birth': 44, 'you': 45, 'live': 46, 'born': 47, 'one': 48, 'only': 49, 'all': 50, 'for': 51, 'as': 52, 'wisdom': 53, 'teachings': 54, 'words': 55, 'earth': 56, 'brahma': 57, 'devaki': 58, 'child': 59, 'when': 60, 'prison': 61, 'infant': 62, 'life': 63, 'written': 64, 'quotes': 65, 'there': 66, 'death': 67, 'it': 68, 'how': 69, 'your': 70, 'why': 71, 'been': 72, 'no': 73, 'work': 74, 'come': 75, 'or': 76, 'yourself': 77, 'power': 78, 'never': 79, 'thy': 80, 'but': 81, 'its': 82, 'time': 83, 'because': 84, 'do': 85, 'me': 86, 'i': 87, 'am': 88, 'way': 89, 'can': 90, 'divine': 91, 'about': 92, 'profound': 93, 'guidance': 94, 'solace': 95, 'spiritual': 96, 'deeper': 97, 'nature': 98, 'existence': 99, 'path': 100, 'they': 101, 'into': 102, 'rulers': 103, 'return': 104, 'mathura': 105, \"kamsa's\": 106, 'son': 107, 'couple': 108, 'kill': 109, 'girl': 110, 'returned': 111, 'became': 112, 'symbol': 113, 'intelligence': 114, 'specific': 115, 'knowledge': 116, 'still': 117, 'helps': 118, 'entire': 119, 'should': 120, 'must': 121, 'known': 122, 'everyone': 123, 'get': 124, 'pleasant': 125, 'experience': 126, 'incarnations': 127, 'avatar': 128, '700': 129, 'verses': 130, 'sanskrit': 131, 'translated': 132, 'hindi': 133, 'english': 134, 'today': 135, 'whole': 136, 'recognizing': 137, 'presence': 138, 'holy': 139, 'book': 140, 'lesson': 141, 'during': 142, 'mahabharata': 143, 'tells': 144, 'spend': 145, 'have': 146, 'necessary': 147, 'factor': 148, 'does': 149, 'ever': 150, 'bad': 151, 'end': 152, 'either': 153, 'here': 154, '“reshape': 155, 'let': 156, 'degraded': 157, 'friend': 158, 'enemy': 159, '“set': 160, 'heart': 161, 'upon': 162, 'reward': 163, '“among': 164, 'kinds': 165, 'killers': 166, 'ultimate': 167, 'kills': 168, 'everything': 169, '“actions': 170, 'cling': 171, 'attached': 172, 'results': 173, 'understand': 174, 'this': 175, 'practice': 176, 'freedom': 177, '“the': 178, 'conquer': 179, 'gladly': 180, 'conquered': 181, '“he': 182, 'has': 183, 'attachments': 184, 'really': 185, 'others': 186, 'pure': 187, '“whatever': 188, 'happened': 189, 'what’s': 190, 'happening': 191, 'going': 192, 'well': 193, 'whatever': 194, 'happen': 195, 'also': 196, 'worry': 197, 'future': 198, 'present': 199, 'revered': 200, 'figure': 201, 'hinduism': 202, 'often': 203, 'regarded': 204, 'embodiment': 205, 'divinity': 206, 'encapsulated': 207, 'sacred': 208, 'texts': 209, 'resonate': 210, 'people': 211, 'across': 212, 'transcending': 213, 'boundaries': 214, 'religion': 215, 'culture': 216, 'enlightenment': 217, 'continue': 218, 'inspire': 219, 'provide': 220, 'seeking': 221, 'insight': 222, 'understanding': 223, 'life’s': 224, 'complexities': 225, 'most': 226, 'remarkable': 227, 'aspects': 228, 'lies': 229, 'timeless': 230, 'relevance': 231, 'whether': 232, 'addressing': 233, 'moral': 234, 'dilemmas': 235, 'faced': 236, 'battlefield': 237, 'kurukshetra': 238, 'imparting': 239, 'possess': 240, 'universal': 241, 'quality': 242, 'speaks': 243, 'human': 244, 'condition': 245, 'dimensions': 246, 'insights': 247, 'encompass': 248, 'wide': 249, 'range': 250, 'topics': 251, 'duty': 252, 'righteousness': 253, 'soul': 254, 'realization': 255, 'essence': 256, 'devotion': 257, 'merely': 258, 'page': 259, 'pearls': 260, 'invite': 261, 'contemplation': 262, 'reflection': 263, 'encourage': 264, 'individuals': 265, 'delve': 266, 'own': 267, 'lives': 268, 'beliefs': 269, 'actions': 270, 'urging': 271, 'align': 272, 'thoughts': 273, 'deeds': 274, 'higher': 275, 'principles': 276, 'times': 277, 'joy': 278, 'sorrow': 279, 'success': 280, 'failure': 281, 'offer': 282, 'reminding': 283, 'us': 284, 'impermanence': 285, 'material': 286, 'enduring': 287, 'truth': 288, 'realm': 289, 'mother': 290, 'unable': 291, 'bear': 292, 'burden': 293, 'sins': 294, 'committed': 295, 'evil': 296, 'kings': 297, 'appealed': 298, 'creator': 299, 'help': 300, 'turn': 301, 'prayed': 302, 'supreme': 303, 'assured': 304, 'soon': 305, 'annihilate': 306, 'tyrannical': 307, 'forces': 308, 'ruler': 309, 'northern': 310, 'india': 311, 'such': 312, 'tyrant': 313, 'inspiring': 314, 'fear': 315, 'among': 316, 'day': 317, 'sister': 318, 'married': 319, 'voice': 320, 'sky': 321, 'prophesied': 322, \"devaki's\": 323, 'destroy': 324, 'frightened': 325, 'jailed': 326, 'vowed': 327, 'any': 328, 'made': 329, 'word': 330, 'killing': 331, 'first': 332, 'seven': 333, 'infants': 334, 'bore': 335, 'imprisoned': 336, 'feared': 337, 'meet': 338, 'same': 339, 'fate': 340, 'appeared': 341, 'before': 342, 'telling': 343, 'guise': 344, 'rescue': 345, 'tyranny': 346, 'baby': 347, 'found': 348, 'himself': 349, 'magically': 350, 'freed': 351, 'fled': 352, 'safe': 353, 'house': 354, 'along': 355, 'removed': 356, 'obstacles': 357, 'like': 358, 'snakes': 359, 'floods': 360, \"vasudeva's\": 361, 'family': 362, 'cowherds': 363, 'exchanging': 364, 'him': 365, 'newborn': 366, 'learned': 367, 'rushed': 368, 'arrived': 369, 'ascended': 370, 'heavens': 371, 'transformed': 372, 'goddess': 373, 'yogamaya': 374, 'she': 375, 'warned': 376, 'nemesis': 377, 'had': 378, 'already': 379, 'elsewhere': 380, 'meanwhile': 381, 'raised': 382, 'cowherd': 383, 'leading': 384, 'an': 385, 'idyllic': 386, 'childhood': 387, 'matured': 388, 'skillful': 389, 'musician': 390, 'wooing': 391, 'women': 392, 'village': 393, 'flute': 394, 'playing': 395, 'eventually': 396, 'where': 397, 'slew': 398, 'henchmen': 399, 'restored': 400, 'father': 401, 'friendly': 402, 'many': 403, \"hinduism's\": 404, 'heroes': 405, 'including': 406, 'warrior': 407}\n"
          ]
        }
      ]
    },
    {
      "cell_type": "code",
      "source": [
        "def get_key(val):\n",
        "   for key, value in token.word_index.items():\n",
        "        if val == value:\n",
        "            return key"
      ],
      "metadata": {
        "id": "1V0Ekz0mIl66"
      },
      "id": "1V0Ekz0mIl66",
      "execution_count": null,
      "outputs": []
    },
    {
      "cell_type": "code",
      "source": [
        "seed_text = \"lord Krishna\"\n",
        "next_words = 100\n",
        "\n",
        "for _ in range(next_words):\n",
        "  token_list = token.texts_to_sequences([seed_text])[0]\n",
        "  token_list = pad_sequences([token_list], maxlen=max_length-1, padding='pre')\n",
        "  predicted = model1.predict(token_list, verbose=0)\n",
        "  # print(max(predicted[0]))\n",
        "  a = max(predicted[0])\n",
        "  predicted=predicted.tolist()\n",
        "  b = predicted[0].index(a)\n",
        "  # print(b)\n",
        "  output_word = get_key(b)\n",
        "  seed_text += \" \"+ output_word\n",
        "\n",
        "print(seed_text)\n",
        "# with open(\"output2.txt\",'w') as f:\n",
        "#     f.write(seed_text)"
      ],
      "metadata": {
        "colab": {
          "base_uri": "https://localhost:8080/"
        },
        "collapsed": true,
        "id": "PLxPb10EMTCk",
        "outputId": "567c3d1a-6a21-48b4-ac42-bc1814a8e0fb"
      },
      "id": "PLxPb10EMTCk",
      "execution_count": null,
      "outputs": [
        {
          "output_type": "stream",
          "name": "stdout",
          "text": [
            "lord Krishna is the symbol of love and intelligence lord krishna would to arjuna is a he fled with a bad is a bad end either infant in is mathura where obstacles like snakes and floods from vasudeva's path that still helps the world through he he jailed by he he he jailed in in in in in in gita gita gita gita gita gita gita the infant to self will is the infant and divine hinduism kings ever come soul merely upon sanskrit they found son knowledge can conquer kings kings is through arrived before can spiritual spiritual that spiritual realm\n"
          ]
        }
      ]
    },
    {
      "cell_type": "code",
      "source": [
        "model1.save(\"genmodel.keras\")"
      ],
      "metadata": {
        "id": "skWMJRWLoqCo"
      },
      "id": "skWMJRWLoqCo",
      "execution_count": null,
      "outputs": []
    },
    {
      "cell_type": "code",
      "source": [
        "model1.save_weights('saved_model/genmodel.keras')"
      ],
      "metadata": {
        "id": "R5EVaYwLSDcn"
      },
      "id": "R5EVaYwLSDcn",
      "execution_count": null,
      "outputs": []
    },
    {
      "cell_type": "code",
      "source": [],
      "metadata": {
        "id": "A3W-M-KXWR1O"
      },
      "id": "A3W-M-KXWR1O",
      "execution_count": null,
      "outputs": []
    }
  ],
  "metadata": {
    "kernelspec": {
      "display_name": "Python 3",
      "name": "python3"
    },
    "language_info": {
      "codemirror_mode": {
        "name": "ipython",
        "version": 3
      },
      "file_extension": ".py",
      "mimetype": "text/x-python",
      "name": "python",
      "nbconvert_exporter": "python",
      "pygments_lexer": "ipython3",
      "version": "3.12.3"
    },
    "colab": {
      "provenance": [],
      "gpuType": "V28",
      "include_colab_link": true
    },
    "accelerator": "TPU"
  },
  "nbformat": 4,
  "nbformat_minor": 5
}